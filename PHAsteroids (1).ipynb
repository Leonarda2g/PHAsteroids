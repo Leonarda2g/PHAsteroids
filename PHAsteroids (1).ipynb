{
 "cells": [
  {
   "cell_type": "markdown",
   "metadata": {
    "id": "V-J1UoKwFlHg"
   },
   "source": [
    "### Empezamos a trabajar aquí"
   ]
  },
  {
   "cell_type": "code",
   "execution_count": 3,
   "metadata": {
    "id": "nsPEEt0FXDil"
   },
   "outputs": [],
   "source": [
    "!python -m pip install astroquery spiceypy &>/dev/null\n",
    "!wget https://naif.jpl.nasa.gov/pub/naif/generic_kernels/lsk/naif0012.tls &>/dev/null"
   ]
  },
  {
   "cell_type": "code",
   "execution_count": 4,
   "metadata": {
    "id": "IBM0-JxU-tC2"
   },
   "outputs": [
    {
     "ename": "ModuleNotFoundError",
     "evalue": "No module named 'spiceypy'",
     "output_type": "error",
     "traceback": [
      "\u001b[0;31m---------------------------------------------------------------------------\u001b[0m",
      "\u001b[0;31mModuleNotFoundError\u001b[0m                       Traceback (most recent call last)",
      "Input \u001b[0;32mIn [4]\u001b[0m, in \u001b[0;36m<cell line: 3>\u001b[0;34m()\u001b[0m\n\u001b[1;32m      1\u001b[0m \u001b[38;5;28;01mimport\u001b[39;00m \u001b[38;5;21;01mnumpy\u001b[39;00m \u001b[38;5;28;01mas\u001b[39;00m \u001b[38;5;21;01mnp\u001b[39;00m\n\u001b[1;32m      2\u001b[0m \u001b[38;5;28;01mimport\u001b[39;00m \u001b[38;5;21;01mmatplotlib\u001b[39;00m\u001b[38;5;21;01m.\u001b[39;00m\u001b[38;5;21;01mpyplot\u001b[39;00m \u001b[38;5;28;01mas\u001b[39;00m \u001b[38;5;21;01mplt\u001b[39;00m\n\u001b[0;32m----> 3\u001b[0m \u001b[38;5;28;01mimport\u001b[39;00m \u001b[38;5;21;01mspiceypy\u001b[39;00m \u001b[38;5;28;01mas\u001b[39;00m \u001b[38;5;21;01mspy\u001b[39;00m\n\u001b[1;32m      4\u001b[0m \u001b[38;5;28;01mfrom\u001b[39;00m \u001b[38;5;21;01mastroquery\u001b[39;00m\u001b[38;5;21;01m.\u001b[39;00m\u001b[38;5;21;01mjplhorizons\u001b[39;00m \u001b[38;5;28;01mimport\u001b[39;00m Horizons\n\u001b[1;32m      5\u001b[0m \u001b[38;5;28;01mfrom\u001b[39;00m \u001b[38;5;21;01murllib\u001b[39;00m \u001b[38;5;28;01mimport\u001b[39;00m request\n",
      "\u001b[0;31mModuleNotFoundError\u001b[0m: No module named 'spiceypy'"
     ]
    }
   ],
   "source": [
    "import numpy as np\n",
    "import matplotlib.pyplot as plt\n",
    "import spiceypy as spy\n",
    "from astroquery.jplhorizons import Horizons\n",
    "from urllib import request\n",
    "import json\n",
    "from collections import OrderedDict as odict"
   ]
  },
  {
   "cell_type": "code",
   "execution_count": null,
   "metadata": {
    "id": "ngNFyLC8_Gr2"
   },
   "outputs": [],
   "source": [
    "spy.furnsh('naif0012.tls')"
   ]
  },
  {
   "cell_type": "code",
   "execution_count": 5,
   "metadata": {
    "colab": {
     "base_uri": "https://localhost:8080/"
    },
    "id": "W3tYLsp9_d4Q",
    "outputId": "9583a336-7dc9-4e55-8d0d-7822c8a3140a"
   },
   "outputs": [
    {
     "ename": "NameError",
     "evalue": "name 'request' is not defined",
     "output_type": "error",
     "traceback": [
      "\u001b[0;31m---------------------------------------------------------------------------\u001b[0m",
      "\u001b[0;31mNameError\u001b[0m                                 Traceback (most recent call last)",
      "Input \u001b[0;32mIn [5]\u001b[0m, in \u001b[0;36m<cell line: 1>\u001b[0;34m()\u001b[0m\n\u001b[0;32m----> 1\u001b[0m html\u001b[38;5;241m=\u001b[39m\u001b[43mrequest\u001b[49m\u001b[38;5;241m.\u001b[39murlopen(\u001b[38;5;124mf\u001b[39m\u001b[38;5;124m\"\u001b[39m\u001b[38;5;124mhttps://ssd-api.jpl.nasa.gov/sbdb.api?sstr=2005ed224&cov=mat\u001b[39m\u001b[38;5;124m\"\u001b[39m)\n\u001b[1;32m      2\u001b[0m json_data\u001b[38;5;241m=\u001b[39mjson\u001b[38;5;241m.\u001b[39mloads(html\u001b[38;5;241m.\u001b[39mread()\u001b[38;5;241m.\u001b[39mdecode())\n\u001b[1;32m      3\u001b[0m json_data\n",
      "\u001b[0;31mNameError\u001b[0m: name 'request' is not defined"
     ]
    }
   ],
   "source": [
    "html=request.urlopen(f\"https://ssd-api.jpl.nasa.gov/sbdb.api?sstr=2005ed224&cov=mat\")\n",
    "json_data=json.loads(html.read().decode())\n",
    "json_data"
   ]
  },
  {
   "cell_type": "code",
   "execution_count": 6,
   "metadata": {
    "id": "-Klo9W4COkMN"
   },
   "outputs": [],
   "source": [
    "rad=180/np.pi\n",
    "deg=1/rad\n",
    "AU=149597870.693 #km \n",
    "mu=132712440023.310 #km^3/s^2"
   ]
  },
  {
   "cell_type": "code",
   "execution_count": 7,
   "metadata": {
    "colab": {
     "base_uri": "https://localhost:8080/"
    },
    "id": "rMuCY6L4EVZX",
    "outputId": "837dc61c-2dfb-4e84-da75-2a8299532a96"
   },
   "outputs": [
    {
     "ename": "NameError",
     "evalue": "name 'json_data' is not defined",
     "output_type": "error",
     "traceback": [
      "\u001b[0;31m---------------------------------------------------------------------------\u001b[0m",
      "\u001b[0;31mNameError\u001b[0m                                 Traceback (most recent call last)",
      "Input \u001b[0;32mIn [7]\u001b[0m, in \u001b[0;36m<cell line: 1>\u001b[0;34m()\u001b[0m\n\u001b[0;32m----> 1\u001b[0m Cov\u001b[38;5;241m=\u001b[39mnp\u001b[38;5;241m.\u001b[39marray(\u001b[43mjson_data\u001b[49m[\u001b[38;5;124m\"\u001b[39m\u001b[38;5;124morbit\u001b[39m\u001b[38;5;124m\"\u001b[39m][\u001b[38;5;124m\"\u001b[39m\u001b[38;5;124mcovariance\u001b[39m\u001b[38;5;124m\"\u001b[39m][\u001b[38;5;124m\"\u001b[39m\u001b[38;5;124mdata\u001b[39m\u001b[38;5;124m\"\u001b[39m],dtype\u001b[38;5;241m=\u001b[39m\u001b[38;5;28mfloat\u001b[39m)\n\u001b[1;32m      2\u001b[0m Cov_label\u001b[38;5;241m=\u001b[39mjson_data[\u001b[38;5;124m\"\u001b[39m\u001b[38;5;124morbit\u001b[39m\u001b[38;5;124m\"\u001b[39m][\u001b[38;5;124m\"\u001b[39m\u001b[38;5;124mcovariance\u001b[39m\u001b[38;5;124m\"\u001b[39m][\u001b[38;5;124m\"\u001b[39m\u001b[38;5;124mlabels\u001b[39m\u001b[38;5;124m\"\u001b[39m]\n\u001b[1;32m      3\u001b[0m t\u001b[38;5;241m=\u001b[39m\u001b[38;5;28mfloat\u001b[39m(json_data[\u001b[38;5;124m\"\u001b[39m\u001b[38;5;124morbit\u001b[39m\u001b[38;5;124m\"\u001b[39m][\u001b[38;5;124m\"\u001b[39m\u001b[38;5;124mepoch\u001b[39m\u001b[38;5;124m\"\u001b[39m])\n",
      "\u001b[0;31mNameError\u001b[0m: name 'json_data' is not defined"
     ]
    }
   ],
   "source": [
    "Cov=np.array(json_data[\"orbit\"][\"covariance\"][\"data\"],dtype=float)\n",
    "Cov_label=json_data[\"orbit\"][\"covariance\"][\"labels\"]\n",
    "t=float(json_data[\"orbit\"][\"epoch\"])\n",
    "mu=132712440023.310 #km^3/s^2\n",
    "Cov,Cov_label"
   ]
  },
  {
   "cell_type": "code",
   "execution_count": 8,
   "metadata": {
    "colab": {
     "base_uri": "https://localhost:8080/"
    },
    "id": "TomnyzkPGUCp",
    "outputId": "dc879a73-3c0c-4f27-8000-e428c99ded77"
   },
   "outputs": [
    {
     "ename": "NameError",
     "evalue": "name 'json_data' is not defined",
     "output_type": "error",
     "traceback": [
      "\u001b[0;31m---------------------------------------------------------------------------\u001b[0m",
      "\u001b[0;31mNameError\u001b[0m                                 Traceback (most recent call last)",
      "Input \u001b[0;32mIn [8]\u001b[0m, in \u001b[0;36m<cell line: 1>\u001b[0;34m()\u001b[0m\n\u001b[0;32m----> 1\u001b[0m nlen\u001b[38;5;241m=\u001b[39m\u001b[38;5;28mlen\u001b[39m(\u001b[43mjson_data\u001b[49m[\u001b[38;5;124m\"\u001b[39m\u001b[38;5;124morbit\u001b[39m\u001b[38;5;124m\"\u001b[39m][\u001b[38;5;124m\"\u001b[39m\u001b[38;5;124melements\u001b[39m\u001b[38;5;124m\"\u001b[39m])\n\u001b[1;32m      2\u001b[0m elnames\u001b[38;5;241m=\u001b[39m[]\n\u001b[1;32m      3\u001b[0m elements\u001b[38;5;241m=\u001b[39modict()\n",
      "\u001b[0;31mNameError\u001b[0m: name 'json_data' is not defined"
     ]
    }
   ],
   "source": [
    "nlen=len(json_data[\"orbit\"][\"elements\"])\n",
    "elnames=[]\n",
    "elements=odict()\n",
    "for i in range(nlen):\n",
    "  element=json_data[\"orbit\"][\"elements\"][i]\n",
    "  elements[element[\"name\"]]=odict()\n",
    "  for prop in element.keys():\n",
    "    try:\n",
    "      elements[element[\"name\"]][prop]=float(element[prop])\n",
    "    except:\n",
    "      pass\n",
    "\n",
    "for elname in elements.keys():\n",
    "  element=elements[elname]\n",
    "  print(f\"Elemento {elname} = {element['value']} +/- {element['sigma']**2}\")\n",
    "\n",
    "means=[elements['e']['value'],elements['q']['value'],elements['tp']['value'],elements['om']['value'],elements['w']['value'],elements['i']['value']]\n",
    "means"
   ]
  },
  {
   "cell_type": "markdown",
   "metadata": {
    "id": "oFynm18vFMP2"
   },
   "source": [
    "### Idea 1: Hacer la Gaussiana Multivariada y con los valores obtenidos hallar M.\n"
   ]
  },
  {
   "cell_type": "code",
   "execution_count": 9,
   "metadata": {
    "colab": {
     "base_uri": "https://localhost:8080/"
    },
    "id": "V8GXYSUoFXCv",
    "outputId": "34fc0375-36f4-4f0c-ef39-4f1ccb4321ce"
   },
   "outputs": [
    {
     "ename": "NameError",
     "evalue": "name 'means' is not defined",
     "output_type": "error",
     "traceback": [
      "\u001b[0;31m---------------------------------------------------------------------------\u001b[0m",
      "\u001b[0;31mNameError\u001b[0m                                 Traceback (most recent call last)",
      "Input \u001b[0;32mIn [9]\u001b[0m, in \u001b[0;36m<cell line: 1>\u001b[0;34m()\u001b[0m\n\u001b[0;32m----> 1\u001b[0m data\u001b[38;5;241m=\u001b[39mnp\u001b[38;5;241m.\u001b[39mrandom\u001b[38;5;241m.\u001b[39mmultivariate_normal(\u001b[43mmeans\u001b[49m,Cov,\u001b[38;5;241m1000\u001b[39m)\n",
      "\u001b[0;31mNameError\u001b[0m: name 'means' is not defined"
     ]
    }
   ],
   "source": [
    "data=np.random.multivariate_normal(means,Cov,1000)"
   ]
  },
  {
   "cell_type": "code",
   "execution_count": 10,
   "metadata": {
    "colab": {
     "base_uri": "https://localhost:8080/",
     "height": 626
    },
    "id": "uWr2chxNM82C",
    "outputId": "66c57395-ba73-45a6-8366-37a95494bce4"
   },
   "outputs": [
    {
     "ename": "NameError",
     "evalue": "name 'data' is not defined",
     "output_type": "error",
     "traceback": [
      "\u001b[0;31m---------------------------------------------------------------------------\u001b[0m",
      "\u001b[0;31mNameError\u001b[0m                                 Traceback (most recent call last)",
      "Input \u001b[0;32mIn [10]\u001b[0m, in \u001b[0;36m<cell line: 1>\u001b[0;34m()\u001b[0m\n\u001b[0;32m----> 1\u001b[0m e\u001b[38;5;241m=\u001b[39m\u001b[43mdata\u001b[49m[:,\u001b[38;5;241m0\u001b[39m];q\u001b[38;5;241m=\u001b[39mdata[:,\u001b[38;5;241m1\u001b[39m];tp\u001b[38;5;241m=\u001b[39mdata[:,\u001b[38;5;241m2\u001b[39m];node\u001b[38;5;241m=\u001b[39mdata[:,\u001b[38;5;241m3\u001b[39m];peri\u001b[38;5;241m=\u001b[39mdata[:,\u001b[38;5;241m4\u001b[39m];inc\u001b[38;5;241m=\u001b[39mdata[:,\u001b[38;5;241m5\u001b[39m]\n\u001b[1;32m      3\u001b[0m t0\u001b[38;5;241m=\u001b[39m\u001b[38;5;28mfloat\u001b[39m(json_data[\u001b[38;5;124m\"\u001b[39m\u001b[38;5;124morbit\u001b[39m\u001b[38;5;124m\"\u001b[39m][\u001b[38;5;124m\"\u001b[39m\u001b[38;5;124mepoch\u001b[39m\u001b[38;5;124m\"\u001b[39m])\n\u001b[1;32m      4\u001b[0m et0\u001b[38;5;241m=\u001b[39mspy\u001b[38;5;241m.\u001b[39munitim(t0,\u001b[38;5;124m\"\u001b[39m\u001b[38;5;124mJDTDB\u001b[39m\u001b[38;5;124m\"\u001b[39m,\u001b[38;5;124m\"\u001b[39m\u001b[38;5;124mET\u001b[39m\u001b[38;5;124m\"\u001b[39m)\n",
      "\u001b[0;31mNameError\u001b[0m: name 'data' is not defined"
     ]
    }
   ],
   "source": [
    "e=data[:,0];q=data[:,1];tp=data[:,2];node=data[:,3];peri=data[:,4];inc=data[:,5]\n",
    "\n",
    "t0=float(json_data[\"orbit\"][\"epoch\"])\n",
    "et0=spy.unitim(t0,\"JDTDB\",\"ET\")\n",
    "\n",
    "a=(q/(1-e))*AU\n",
    "n=np.sqrt(mu/a**3)\n",
    "#n=np.rad2deg(n)\n",
    "#n*86400\n",
    "tps=np.array([spy.unitim(t,\"JDTDB\",\"ET\") for t in tp])\n",
    "M=n*(t-tps)\n",
    "Ms=np.mod(M,2*np.pi)\n",
    "\n",
    "et=spy.str2et(\"2023-03-11.35 UTC\")\n",
    "\n",
    "Asteroid=[]\n",
    "for i in range(len(e)):\n",
    "  Asteroid.append(spy.conics([q[i]*AU,e[i],inc[i]*deg,node[i]*deg,peri[i]*deg,Ms[i],et0,mu],e))\n",
    "Asteroid=np.array(Asteroid)\n",
    "#print(f\"e ={e}\\nq={q}\\ntp={tp}\\nnode={node}\\nperi={peri}\\nM={Ms}\\ni={inc}\")\n",
    "et0, et"
   ]
  },
  {
   "cell_type": "code",
   "execution_count": 11,
   "metadata": {
    "id": "k13ko6i3oUVu"
   },
   "outputs": [
    {
     "ename": "NameError",
     "evalue": "name 'spy' is not defined",
     "output_type": "error",
     "traceback": [
      "\u001b[0;31m---------------------------------------------------------------------------\u001b[0m",
      "\u001b[0;31mNameError\u001b[0m                                 Traceback (most recent call last)",
      "Input \u001b[0;32mIn [11]\u001b[0m, in \u001b[0;36m<cell line: 1>\u001b[0;34m()\u001b[0m\n\u001b[0;32m----> 1\u001b[0m Epoch\u001b[38;5;241m=\u001b[39m\u001b[43mspy\u001b[49m\u001b[38;5;241m.\u001b[39munitim(et,\u001b[38;5;124m\"\u001b[39m\u001b[38;5;124mET\u001b[39m\u001b[38;5;124m\"\u001b[39m,\u001b[38;5;124m\"\u001b[39m\u001b[38;5;124mJDTDB\u001b[39m\u001b[38;5;124m\"\u001b[39m)\n\u001b[1;32m      2\u001b[0m data_tierra\u001b[38;5;241m=\u001b[39mHorizons(\u001b[38;5;28mid\u001b[39m\u001b[38;5;241m=\u001b[39m\u001b[38;5;124m\"\u001b[39m\u001b[38;5;124m399\u001b[39m\u001b[38;5;124m\"\u001b[39m,location\u001b[38;5;241m=\u001b[39m\u001b[38;5;124m\"\u001b[39m\u001b[38;5;124m@10\u001b[39m\u001b[38;5;124m\"\u001b[39m,epochs\u001b[38;5;241m=\u001b[39mEpoch)\u001b[38;5;241m.\u001b[39mvectors()\n\u001b[1;32m      3\u001b[0m rE\u001b[38;5;241m=\u001b[39mnp\u001b[38;5;241m.\u001b[39marray(data_tierra\u001b[38;5;241m.\u001b[39mto_pandas()\u001b[38;5;241m.\u001b[39mloc[\u001b[38;5;241m0\u001b[39m,[\u001b[38;5;124m\"\u001b[39m\u001b[38;5;124mx\u001b[39m\u001b[38;5;124m\"\u001b[39m,\u001b[38;5;124m\"\u001b[39m\u001b[38;5;124my\u001b[39m\u001b[38;5;124m\"\u001b[39m,\u001b[38;5;124m\"\u001b[39m\u001b[38;5;124mz\u001b[39m\u001b[38;5;124m\"\u001b[39m]]\u001b[38;5;241m.\u001b[39mastype(\u001b[38;5;124m\"\u001b[39m\u001b[38;5;124mfloat\u001b[39m\u001b[38;5;124m\"\u001b[39m))\u001b[38;5;241m*\u001b[39mAU\n",
      "\u001b[0;31mNameError\u001b[0m: name 'spy' is not defined"
     ]
    }
   ],
   "source": [
    "Epoch=spy.unitim(et,\"ET\",\"JDTDB\")\n",
    "data_tierra=Horizons(id=\"399\",location=\"@10\",epochs=Epoch).vectors()\n",
    "rE=np.array(data_tierra.to_pandas().loc[0,[\"x\",\"y\",\"z\"]].astype(\"float\"))*AU\n"
   ]
  },
  {
   "cell_type": "code",
   "execution_count": 12,
   "metadata": {
    "id": "x_2U0e1foa8y"
   },
   "outputs": [
    {
     "ename": "NameError",
     "evalue": "name 'rE' is not defined",
     "output_type": "error",
     "traceback": [
      "\u001b[0;31m---------------------------------------------------------------------------\u001b[0m",
      "\u001b[0;31mNameError\u001b[0m                                 Traceback (most recent call last)",
      "Input \u001b[0;32mIn [12]\u001b[0m, in \u001b[0;36m<cell line: 4>\u001b[0;34m()\u001b[0m\n\u001b[1;32m      2\u001b[0m ax1\u001b[38;5;241m=\u001b[39mfig\u001b[38;5;241m.\u001b[39madd_subplot(\u001b[38;5;241m111\u001b[39m)\n\u001b[1;32m      3\u001b[0m \u001b[38;5;66;03m#ax.scatter(rE[0],rE[1],rE[2],marker=\"o\",s=64, label=\"Earth\")\u001b[39;00m\n\u001b[0;32m----> 4\u001b[0m ax1\u001b[38;5;241m.\u001b[39mscatter(\u001b[43mrE\u001b[49m[\u001b[38;5;241m0\u001b[39m],rE[\u001b[38;5;241m1\u001b[39m],marker\u001b[38;5;241m=\u001b[39m\u001b[38;5;124m\"\u001b[39m\u001b[38;5;124mo\u001b[39m\u001b[38;5;124m\"\u001b[39m,s\u001b[38;5;241m=\u001b[39m\u001b[38;5;241m10\u001b[39m\u001b[38;5;241m*\u001b[39m\u001b[38;5;241m*\u001b[39m\u001b[38;5;241m2\u001b[39m, label\u001b[38;5;241m=\u001b[39m\u001b[38;5;124m\"\u001b[39m\u001b[38;5;124mEarth\u001b[39m\u001b[38;5;124m\"\u001b[39m)\n\u001b[1;32m      5\u001b[0m ax1\u001b[38;5;241m.\u001b[39mset(xlabel\u001b[38;5;241m=\u001b[39m\u001b[38;5;124m\"\u001b[39m\u001b[38;5;124mX[km]\u001b[39m\u001b[38;5;124m\"\u001b[39m,ylabel\u001b[38;5;241m=\u001b[39m\u001b[38;5;124m\"\u001b[39m\u001b[38;5;124mY[km]\u001b[39m\u001b[38;5;124m\"\u001b[39m)\n\u001b[1;32m      6\u001b[0m \u001b[38;5;28;01mfor\u001b[39;00m k \u001b[38;5;129;01min\u001b[39;00m \u001b[38;5;28mrange\u001b[39m(\u001b[38;5;28mlen\u001b[39m(Asteroid)):\n\u001b[1;32m      7\u001b[0m   \u001b[38;5;66;03m#ax.scatter(Asteroid[k][:3][0],Asteroid[k][:3][1],Asteroid[k][:3][2], s=2**2)\u001b[39;00m\n",
      "\u001b[0;31mNameError\u001b[0m: name 'rE' is not defined"
     ]
    },
    {
     "data": {
      "image/png": "[encoded data removed]",
      "text/plain": [
       "<Figure size 864x576 with 1 Axes>"
      ]
     },
     "metadata": {
      "needs_background": "light"
     },
     "output_type": "display_data"
    }
   ],
   "source": [
    "fig=plt.figure(figsize=(12,8))\n",
    "ax1=fig.add_subplot(111)\n",
    "#ax.scatter(rE[0],rE[1],rE[2],marker=\"o\",s=64, label=\"Earth\")\n",
    "ax1.scatter(rE[0],rE[1],marker=\"o\",s=10**2, label=\"Earth\")\n",
    "ax1.set(xlabel=\"X[km]\",ylabel=\"Y[km]\")\n",
    "for k in range(len(Asteroid)):\n",
    "  #ax.scatter(Asteroid[k][:3][0],Asteroid[k][:3][1],Asteroid[k][:3][2], s=2**2)\n",
    "  ax1.scatter(Asteroid[k][:3][0],Asteroid[k][:3][1], s=2**2)\n",
    "\n",
    "plt.legend(fontsize=14)\n",
    "plt.grid()"
   ]
  },
  {
   "cell_type": "code",
   "execution_count": 13,
   "metadata": {
    "id": "dHH6AhB-vd3O"
   },
   "outputs": [
    {
     "ename": "NameError",
     "evalue": "name 'a' is not defined",
     "output_type": "error",
     "traceback": [
      "\u001b[0;31m---------------------------------------------------------------------------\u001b[0m",
      "\u001b[0;31mNameError\u001b[0m                                 Traceback (most recent call last)",
      "Input \u001b[0;32mIn [13]\u001b[0m, in \u001b[0;36m<cell line: 2>\u001b[0;34m()\u001b[0m\n\u001b[1;32m      1\u001b[0m \u001b[38;5;66;03m#\"{:e}\".format(abs(np.linalg.norm(Asteroid[0][:3])-np.linalg.norm(Asteroid[1][:3])))\u001b[39;00m\n\u001b[0;32m----> 2\u001b[0m np\u001b[38;5;241m.\u001b[39mstd(\u001b[43ma\u001b[49m\u001b[38;5;241m/\u001b[39mAU)\n",
      "\u001b[0;31mNameError\u001b[0m: name 'a' is not defined"
     ]
    }
   ],
   "source": [
    "#\"{:e}\".format(abs(np.linalg.norm(Asteroid[0][:3])-np.linalg.norm(Asteroid[1][:3])))\n",
    "np.std(a/AU)"
   ]
  }
 ],
 "metadata": {
  "colab": {
   "collapsed_sections": [],
   "name": "PHAsteroids.ipynb",
   "provenance": []
  },
  "kernelspec": {
   "display_name": "Python 3 (ipykernel)",
   "language": "python",
   "name": "python3"
  },
  "language_info": {
   "codemirror_mode": {
    "name": "ipython",
    "version": 3
   },
   "file_extension": ".py",
   "mimetype": "text/x-python",
   "name": "python",
   "nbconvert_exporter": "python",
   "pygments_lexer": "ipython3",
   "version": "3.10.4"
  }
 },
 "nbformat": 4,
 "nbformat_minor": 1
}
