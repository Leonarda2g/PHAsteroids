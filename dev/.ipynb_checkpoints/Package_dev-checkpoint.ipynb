{
 "cells": [
  {
   "cell_type": "code",
   "execution_count": 1,
   "id": "54180f84",
   "metadata": {
    "id": "54180f84",
    "outputId": "b68163bb-6147-4e36-f369-8bcbdf1697d1"
   },
   "outputs": [],
   "source": [
    "class Asteroid:\n",
    "    def __init__(self,ID):\n",
    "        self.ID = ID"
   ]
  },
  {
   "cell_type": "code",
   "execution_count": 6,
   "id": "95e58257",
   "metadata": {
    "id": "95e58257"
   },
   "outputs": [],
   "source": [
    "import numpy as np\n",
    "import matplotlib.pyplot as plt\n",
    "import spiceypy as spy\n",
    "from astroquery.jplhorizons import Horizons\n",
    "from urllib import request\n",
    "import json\n",
    "from collections import OrderedDict as odict"
   ]
  },
  {
   "cell_type": "code",
   "execution_count": 23,
   "id": "1e6a8f10",
   "metadata": {},
   "outputs": [],
   "source": [
    "spy.furnsh('naif0012.tls')"
   ]
  },
  {
   "cell_type": "code",
   "execution_count": 28,
   "id": "35548e43",
   "metadata": {
    "id": "35548e43"
   },
   "outputs": [],
   "source": [
    "def calculate_surrogates(ID, n, date):\n",
    "    if type(ID) is not str:\n",
    "        raise ValueError(f\"ID should be a string (even more an asteroid name), you passed {ID}\") #Debe estar en minúscula también\n",
    "    if type(date) is not str:\n",
    "        raise ValueError(f\"date should be a string as YYYY-MM-DD, you passed {date}\")\n",
    "        \n",
    "    html=request.urlopen(f\"https://ssd-api.jpl.nasa.gov/sbdb.api?sstr={ID}&cov=mat\")\n",
    "    json_data=json.loads(html.read().decode())\n",
    "    \n",
    "    rad=180/np.pi\n",
    "    deg=1/rad\n",
    "    AU=149597870.693 #km \n",
    "    mu=132712440023.310 #km^3/s^2\n",
    "    \n",
    "    Cov=np.array(json_data[\"orbit\"][\"covariance\"][\"data\"],dtype=float)\n",
    "    Cov_label=json_data[\"orbit\"][\"covariance\"][\"labels\"]\n",
    "    t=float(json_data[\"orbit\"][\"epoch\"])\n",
    "    nlen=len(json_data[\"orbit\"][\"elements\"])\n",
    "    \n",
    "    elnames=[]\n",
    "    elements=odict()\n",
    "    for i in range(nlen):\n",
    "        element=json_data[\"orbit\"][\"elements\"][i]\n",
    "        elements[element[\"name\"]]=odict()\n",
    "        for prop in element.keys():\n",
    "            try:\n",
    "                elements[element[\"name\"]][prop]=float(element[prop])\n",
    "            except:\n",
    "                pass\n",
    "\n",
    "    for elname in elements.keys():\n",
    "        element=elements[elname]\n",
    "        means=[elements['e']['value'],elements['q']['value'],elements['tp']['value'],elements['om']['value'],elements['w']['value'],elements['i']['value']]\n",
    "        \n",
    "    data=np.random.multivariate_normal(means,Cov,n, check_valid='ignore')\n",
    "    #PREGUNTAR CÓMO HACER PARA DARLE UN VALOR PREDETERMINADO A LOS SURROGATES SI EL USUARIO NO LO INGRESA\n",
    "    \n",
    "    e=data[:,0];q=data[:,1];tp=data[:,2];node=data[:,3];peri=data[:,4];inc=data[:,5]\n",
    "\n",
    "    t0=float(json_data[\"orbit\"][\"epoch\"])\n",
    "    et0=spy.unitim(t0,\"JDTDB\",\"ET\")\n",
    "\n",
    "    a=(q/(1-e))*AU\n",
    "    n=np.sqrt(mu/a**3)\n",
    "    tps=np.array([spy.unitim(t,\"JDTDB\",\"ET\") for t in tp])\n",
    "    M=n*(et0-tps)\n",
    "    Ms=np.mod(M,2*np.pi)\n",
    "\n",
    "    Time=f'{date} UTC'\n",
    "    et=spy.str2et(Time)\n",
    "    Ast=[]\n",
    "    for i in range(len(e)): #PREGUNTAR CÓMO HACER PARA DARLE UN VALOR PREDETERMINADO A LA FECHA SI EL USUARIO NO LA INGRESA\n",
    "        Ast.append(spy.conics([q[i]*AU,e[i],inc[i]*deg,node[i]*deg,peri[i]*deg,Ms[i],et0,mu],et))\n",
    "    Ast=np.array(Ast)\n",
    "    \n",
    "    return Ast"
   ]
  },
  {
   "cell_type": "code",
   "execution_count": 29,
   "id": "33596f9d",
   "metadata": {
    "id": "33596f9d",
    "outputId": "f2b23045-0605-4b96-9df8-713cb54d219e"
   },
   "outputs": [
    {
     "data": {
      "text/plain": [
       "array([[-1.54085011e+08,  4.40609476e+07,  1.13264545e+06,\n",
       "        -2.84420258e+01, -2.03655217e+01,  1.98317182e+00],\n",
       "       [-1.62954446e+08,  3.74476472e+07,  1.76556433e+06,\n",
       "        -2.68804557e+01, -2.07707992e+01,  1.96726990e+00],\n",
       "       [-1.67153140e+08,  3.41382672e+07,  2.07524095e+06,\n",
       "        -2.61486361e+01, -2.09310387e+01,  1.95745044e+00],\n",
       "       [-1.38536793e+08,  5.44812020e+07,  9.33591897e+04,\n",
       "        -3.12242038e+01, -1.94192660e+01,  1.99725229e+00],\n",
       "       [-1.46979229e+08,  4.90161068e+07,  6.46066686e+05,\n",
       "        -2.97069764e+01, -1.99710362e+01,  1.99180229e+00],\n",
       "       [-1.67760072e+08,  3.36366171e+07,  2.12193717e+06,\n",
       "        -2.60426905e+01, -2.09537915e+01,  1.95641865e+00],\n",
       "       [-1.52311892e+08,  4.53277861e+07,  1.00943665e+06,\n",
       "        -2.87566043e+01, -2.02728586e+01,  1.98571185e+00],\n",
       "       [-1.41328310e+08,  5.27068581e+07,  2.74234129e+05,\n",
       "        -3.07209842e+01, -1.96136940e+01,  1.99640117e+00],\n",
       "       [-1.34772485e+08,  5.67662736e+07, -1.43879621e+05,\n",
       "        -3.19051885e+01, -1.91435179e+01,  1.99843662e+00],\n",
       "       [-1.75573720e+08,  2.71229371e+07,  2.71954234e+06,\n",
       "        -2.46939263e+01, -2.11969337e+01,  1.93537754e+00]])"
      ]
     },
     "execution_count": 29,
     "metadata": {},
     "output_type": "execute_result"
    }
   ],
   "source": [
    "calculate_surrogates('2021eu', 10, '2024-02-27')"
   ]
  },
  {
   "cell_type": "code",
   "execution_count": 13,
   "id": "bf76a090",
   "metadata": {
    "id": "bf76a090",
    "outputId": "5f3f47aa-38d8-499e-f8ae-0dd444a42a54"
   },
   "outputs": [
    {
     "data": {
      "text/plain": [
       "str"
      ]
     },
     "execution_count": 13,
     "metadata": {},
     "output_type": "execute_result"
    }
   ],
   "source": [
    "ID=\"1\"\n",
    "type(ID)"
   ]
  }
 ],
 "metadata": {
  "colab": {
   "name": "Package_dev.ipynb",
   "provenance": []
  },
  "kernelspec": {
   "display_name": "Python 3 (ipykernel)",
   "language": "python",
   "name": "python3"
  },
  "language_info": {
   "codemirror_mode": {
    "name": "ipython",
    "version": 3
   },
   "file_extension": ".py",
   "mimetype": "text/x-python",
   "name": "python",
   "nbconvert_exporter": "python",
   "pygments_lexer": "ipython3",
   "version": "3.10.4"
  }
 },
 "nbformat": 4,
 "nbformat_minor": 5
}
