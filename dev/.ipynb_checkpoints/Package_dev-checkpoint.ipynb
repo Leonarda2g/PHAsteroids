{
 "cells": [
  {
   "cell_type": "code",
   "execution_count": 1,
   "id": "54180f84",
   "metadata": {
    "id": "54180f84",
    "outputId": "b68163bb-6147-4e36-f369-8bcbdf1697d1"
   },
   "outputs": [],
   "source": [
    "class Asteroid:\n",
    "    def __init__(self,ID):\n",
    "        self.ID = ID"
   ]
  },
  {
   "cell_type": "code",
   "execution_count": 4,
   "id": "95e58257",
   "metadata": {
    "id": "95e58257"
   },
   "outputs": [],
   "source": [
    "import numpy as np\n",
    "import matplotlib.pyplot as plt\n",
    "import spiceypy as spy\n",
    "from astroquery.jplhorizons import Horizons\n",
    "from urllib import request\n",
    "import json\n",
    "from collections import OrderedDict as odict\n",
    "from astropy.time import Time"
   ]
  },
  {
   "cell_type": "code",
   "execution_count": 5,
   "id": "8d6fe22f",
   "metadata": {},
   "outputs": [],
   "source": [
    "spy.furnsh('naif0012.tls')"
   ]
  },
  {
   "cell_type": "code",
   "execution_count": 21,
   "id": "35548e43",
   "metadata": {
    "id": "35548e43"
   },
   "outputs": [],
   "source": [
    "def calculate_surrogates(ID, n=1, date='2000-01-01 00:00:00'):\n",
    "    if type(ID) is not str:\n",
    "        raise ValueError(f\"ID should be a string (even more an asteroid name), you passed {ID}\")\n",
    "    if type(date) is not str:\n",
    "        raise ValueError(f\"date should be a string as YYYY-MM-DD HH:MM:SS , you passed {date}\")\n",
    "        \n",
    "    html=request.urlopen(f\"https://ssd-api.jpl.nasa.gov/sbdb.api?sstr={ID}&cov=mat\")\n",
    "    json_data=json.loads(html.read().decode())\n",
    "    \n",
    "    rad=180/np.pi\n",
    "    deg=1/rad\n",
    "    AU=149597870.693 #km \n",
    "    mu=132712440023.310 #km^3/s^2\n",
    "    \n",
    "    Cov=np.array(json_data[\"orbit\"][\"covariance\"][\"data\"],dtype=float)\n",
    "    Cov_label=json_data[\"orbit\"][\"covariance\"][\"labels\"]\n",
    "    t=float(json_data[\"orbit\"][\"epoch\"])\n",
    "    nlen=len(json_data[\"orbit\"][\"elements\"])\n",
    "    \n",
    "    elnames=[]\n",
    "    elements=odict()\n",
    "    for i in range(nlen):\n",
    "        element=json_data[\"orbit\"][\"elements\"][i]\n",
    "        elements[element[\"name\"]]=odict()\n",
    "        for prop in element.keys():\n",
    "            try:\n",
    "                elements[element[\"name\"]][prop]=float(element[prop])\n",
    "            except:\n",
    "                pass\n",
    "\n",
    "    for elname in elements.keys():\n",
    "        element=elements[elname]\n",
    "        means=[elements['e']['value'],elements['q']['value'],elements['tp']['value'],elements['om']['value'],elements['w']['value'],elements['i']['value']]\n",
    "        \n",
    "    data=np.random.multivariate_normal(means,Cov,n, check_valid='ignore')\n",
    "    \n",
    "    \n",
    "    e=data[:,0];q=data[:,1];tp=data[:,2];node=data[:,3];peri=data[:,4];inc=data[:,5]\n",
    "\n",
    "    t0=float(json_data[\"orbit\"][\"epoch\"])\n",
    "    et0=spy.unitim(t0,\"JDTDB\",\"ET\")\n",
    "\n",
    "    a=(q/(1-e))*AU\n",
    "    n=np.sqrt(mu/a**3)\n",
    "    tps=np.array([spy.unitim(t,\"JDTDB\",\"ET\") for t in tp])\n",
    "    M=n*(et0-tps)\n",
    "    Ms=np.mod(M,2*np.pi)\n",
    "\n",
    "    Time=f'{date} UTC'\n",
    "    et=spy.str2et(Time)\n",
    "    \n",
    "    Ast=[]\n",
    "    for i in range(len(e)): \n",
    "        Ast.append(spy.conics([q[i]*AU,e[i],inc[i]*deg,node[i]*deg,peri[i]*deg,Ms[i],et0,mu],et)/AU)\n",
    "        Ast[i][3::] = Ast[i][3::]*86400\n",
    "    Ast=np.array(Ast)\n",
    "    return Ast"
   ]
  },
  {
   "cell_type": "code",
   "execution_count": 81,
   "id": "33596f9d",
   "metadata": {
    "id": "33596f9d",
    "outputId": "f2b23045-0605-4b96-9df8-713cb54d219e",
    "scrolled": true
   },
   "outputs": [
    {
     "data": {
      "text/plain": [
       "array([[-1.07111683,  0.26440212,  0.01047198, -0.01580146, -0.01192828,\n",
       "         0.00113914]])"
      ]
     },
     "execution_count": 81,
     "metadata": {},
     "output_type": "execute_result"
    }
   ],
   "source": [
    "B=calculate_surrogates('2021eu', 1, '2024-02-27 07:40:03')\n",
    "B"
   ]
  },
  {
   "cell_type": "code",
   "execution_count": 27,
   "id": "bf76a090",
   "metadata": {
    "id": "bf76a090",
    "outputId": "5f3f47aa-38d8-499e-f8ae-0dd444a42a54"
   },
   "outputs": [
    {
     "data": {
      "text/plain": [
       "str"
      ]
     },
     "execution_count": 27,
     "metadata": {},
     "output_type": "execute_result"
    }
   ],
   "source": [
    "ID=\"1\"\n",
    "type(ID)"
   ]
  },
  {
   "cell_type": "code",
   "execution_count": 103,
   "id": "c76f1aaa",
   "metadata": {},
   "outputs": [],
   "source": [
    "class Asteroid:\n",
    "    \n",
    "    def __init__(self,ID):\n",
    "        self.ID = ID\n",
    "        if type(ID) is not str:\n",
    "            raise ValueError(f\"ID should be a string (even more an asteroid name), you passed {self.ID}\")\n",
    "            \n",
    "    #CALCULATE SURROGATES POSITIONS\n",
    "    def calculate_surrogates_position(self, n=1, date='2000-01-01 00:00:00'):\n",
    "        if type(date) is not str:\n",
    "            raise ValueError(f\"date should be a string as YYYY-MM-DD HH:MM:SS , you passed {date}\")\n",
    "        \n",
    "        html=request.urlopen(f\"https://ssd-api.jpl.nasa.gov/sbdb.api?sstr={self.ID}&cov=mat\")\n",
    "        json_data=json.loads(html.read().decode())\n",
    "    \n",
    "        rad=180/np.pi\n",
    "        deg=1/rad\n",
    "        AU=149597870.693 #km \n",
    "        mu=132712440023.310 #km^3/s^2\n",
    "    \n",
    "        Cov=np.array(json_data[\"orbit\"][\"covariance\"][\"data\"],dtype=float)\n",
    "        Cov_label=json_data[\"orbit\"][\"covariance\"][\"labels\"]\n",
    "        t=float(json_data[\"orbit\"][\"epoch\"])\n",
    "        nlen=len(json_data[\"orbit\"][\"elements\"])\n",
    "    \n",
    "        elnames=[]\n",
    "        elements=odict()\n",
    "        for i in range(nlen):\n",
    "            element=json_data[\"orbit\"][\"elements\"][i]\n",
    "            elements[element[\"name\"]]=odict()\n",
    "            for prop in element.keys():\n",
    "                try:\n",
    "                    elements[element[\"name\"]][prop]=float(element[prop])\n",
    "                except:\n",
    "                    pass\n",
    "\n",
    "        for elname in elements.keys():\n",
    "            element=elements[elname]\n",
    "            means=[elements['e']['value'],elements['q']['value'],elements['tp']['value'],elements['om']['value'],elements['w']['value'],elements['i']['value']]\n",
    "        \n",
    "        data=np.random.multivariate_normal(means,Cov,n, check_valid='ignore')\n",
    "    \n",
    "    \n",
    "        e=data[:,0];q=data[:,1];tp=data[:,2];node=data[:,3];peri=data[:,4];inc=data[:,5]\n",
    "\n",
    "        t0=float(json_data[\"orbit\"][\"epoch\"])\n",
    "        et0=spy.unitim(t0,\"JDTDB\",\"ET\")\n",
    "\n",
    "        a=(q/(1-e))*AU\n",
    "        n=np.sqrt(mu/a**3)\n",
    "        tps=np.array([spy.unitim(t,\"JDTDB\",\"ET\") for t in tp])\n",
    "        M=n*(et0-tps)\n",
    "        Ms=np.mod(M,2*np.pi)\n",
    "\n",
    "        Time=f'{date} UTC'\n",
    "        et=spy.str2et(Time)\n",
    "    \n",
    "        Ast=[]\n",
    "        for i in range(len(e)): \n",
    "            Ast.append(spy.conics([q[i]*AU,e[i],inc[i]*deg,node[i]*deg,peri[i]*deg,Ms[i],et0,mu],et)/AU)\n",
    "            Ast[i][3::] = Ast[i][3::]*86400\n",
    "        Ast=np.array(Ast)\n",
    "        return Ast"
   ]
  },
  {
   "cell_type": "code",
   "execution_count": 104,
   "id": "9abb9db1",
   "metadata": {},
   "outputs": [
    {
     "data": {
      "text/plain": [
       "array([[-9.93502621e-01, -7.14404933e-03,  9.96447817e-03,\n",
       "         2.25023883e-03, -2.12886085e-02, -2.75773138e-04],\n",
       "       [-9.94423075e-01,  1.80110215e-03,  1.00816722e-02,\n",
       "         2.12478738e-03, -2.12896684e-02, -2.74562817e-04],\n",
       "       [-9.98584259e-01,  5.15847651e-02,  1.07239499e-02,\n",
       "         1.43123807e-03, -2.12751641e-02, -2.67587754e-04]])"
      ]
     },
     "execution_count": 104,
     "metadata": {},
     "output_type": "execute_result"
    }
   ],
   "source": [
    "PHA = Asteroid('2008jl3')\n",
    "PHA.calculate_surrogates_position(n=3, date='2027-04-02')"
   ]
  },
  {
   "cell_type": "markdown",
   "id": "49f86cb4",
   "metadata": {},
   "source": [
    "# Prueba de get_covariance"
   ]
  },
  {
   "cell_type": "code",
   "execution_count": 107,
   "id": "7715418e",
   "metadata": {},
   "outputs": [],
   "source": [
    "#GET COVARIANCE MATRIX\n",
    "class Asteroid:\n",
    "    def __init__(self,ID):\n",
    "        self.ID = ID\n",
    "        if type(ID) is not str:\n",
    "            raise ValueError(f\"ID should be a string, specifically an asteroid name (EX: 2021EU), you passed {self.ID}\")\n",
    "            \n",
    "    def get_covariance(self): \n",
    "        html=request.urlopen(f\"https://ssd-api.jpl.nasa.gov/sbdb.api?sstr={self.ID}&cov=mat\")\n",
    "        json_data=json.loads(html.read().decode())\n",
    "        \n",
    "        Cov=np.array(json_data[\"orbit\"][\"covariance\"][\"data\"],dtype=float)\n",
    "        return Cov"
   ]
  },
  {
   "cell_type": "code",
   "execution_count": 108,
   "id": "652e8f56",
   "metadata": {},
   "outputs": [
    {
     "data": {
      "text/plain": [
       "array([[ 3.02e-07, -5.78e-09,  2.24e-06, -3.28e-07,  4.21e-07,  3.55e-07],\n",
       "       [-5.78e-09,  1.12e-10, -4.27e-08,  6.26e-09, -7.73e-09, -6.81e-09],\n",
       "       [ 2.24e-06, -4.27e-08,  1.67e-05, -2.44e-06,  3.21e-06,  2.63e-06],\n",
       "       [-3.28e-07,  6.26e-09, -2.44e-06,  3.62e-07, -4.73e-07, -3.85e-07],\n",
       "       [ 4.21e-07, -7.73e-09,  3.21e-06, -4.73e-07,  7.11e-07,  4.93e-07],\n",
       "       [ 3.55e-07, -6.81e-09,  2.63e-06, -3.85e-07,  4.93e-07,  4.18e-07]])"
      ]
     },
     "execution_count": 108,
     "metadata": {},
     "output_type": "execute_result"
    }
   ],
   "source": [
    "pha = Asteroid('2008JL3')\n",
    "pha.get_covariance()"
   ]
  },
  {
   "cell_type": "markdown",
   "id": "8b2d3b8d",
   "metadata": {},
   "source": [
    "# Prueba de set_date"
   ]
  },
  {
   "cell_type": "code",
   "execution_count": 131,
   "id": "6c12194c",
   "metadata": {},
   "outputs": [],
   "source": [
    "class Asteroid:\n",
    "    def __init__(self,ID, date = '2000-01-01 00:00:00'):\n",
    "        self.ID = ID\n",
    "        self.date = date\n",
    "        if type(ID) is not str:\n",
    "            raise ValueError(f\"ID should be a string, specifically an asteroid name (EX: 2021EU), you passed {self.ID}\")\n",
    "        \n",
    "    def set_date(self, date):\n",
    "        self.date = date\n",
    "        if type(date) is not str:\n",
    "            raise ValueError(f\"date should be a string as YYYY-MM-DD HH:MM:SS , you passed {date}\")\n",
    "    \n",
    "    def get_date(self):\n",
    "        return self.date"
   ]
  },
  {
   "cell_type": "code",
   "execution_count": 133,
   "id": "657a741b",
   "metadata": {},
   "outputs": [
    {
     "data": {
      "text/plain": [
       "'2000-01-01 00:00:00'"
      ]
     },
     "execution_count": 133,
     "metadata": {},
     "output_type": "execute_result"
    }
   ],
   "source": [
    "pha = Asteroid('2021EU')\n",
    "pha.get_date()"
   ]
  },
  {
   "cell_type": "code",
   "execution_count": 135,
   "id": "729b1376",
   "metadata": {
    "scrolled": true
   },
   "outputs": [
    {
     "data": {
      "text/plain": [
       "'2002-10-02 00:00:00'"
      ]
     },
     "execution_count": 135,
     "metadata": {},
     "output_type": "execute_result"
    }
   ],
   "source": [
    "pha.set_date('2002-10-02 00:00:00')\n",
    "pha.get_date()"
   ]
  },
  {
   "cell_type": "markdown",
   "id": "0bb72a17",
   "metadata": {},
   "source": [
    "# Juntando todo"
   ]
  },
  {
   "cell_type": "code",
   "execution_count": 11,
   "id": "9aa95eab",
   "metadata": {},
   "outputs": [],
   "source": [
    "class Asteroid:\n",
    "    \"\"\" Creates an object given an asteroid name.\n",
    "    \n",
    "        Parameter: \n",
    "            ID (str): Name of the Asteroid in standard notation.\n",
    "            \n",
    "        Example: \n",
    "            Ast = Asteroid('2008JL3')\"\"\"\n",
    "    \n",
    "    def __init__(self, ID):\n",
    "        \n",
    "        \"\"\"Once you give an asteroide name, it will take the epoch data \n",
    "        from the JPL Small-Body Database as the default date parameter\"\"\"\n",
    "        \n",
    "        self.ID = ID\n",
    "        if type(ID) is not str:\n",
    "            raise ValueError(f\"ID should be a string, specifically an asteroid name (EX: 2021EU), you passed {self.ID}\")\n",
    "     \n",
    "        html = request.urlopen(f\"https://ssd-api.jpl.nasa.gov/sbdb.api?sstr={self.ID}&cov=mat\")\n",
    "        json_data = json.loads(html.read().decode())\n",
    "        t0 = float(json_data[\"orbit\"][\"epoch\"])\n",
    "        self.epoch = Time(t0, format='jd', scale='utc').iso\n",
    "        #We assume date equal as epoch\n",
    "        self.date = self.epoch\n",
    "        \n",
    "        \n",
    "    #GET DATE\n",
    "    def get_date(self):\n",
    "        #Para darle utilidad al método es preferible agregarle un return con el formato que el usuario pida\n",
    "        \"\"\"Useful for checking the ephemeris time \n",
    "        before calculating the surrogates.\n",
    "        \n",
    "        Returns:\n",
    "                Date in UTC format (str)\"\"\"\n",
    "        \n",
    "        return self.date\n",
    "    \n",
    "    \n",
    "    #SET DATE\n",
    "    def set_date(self, date):\n",
    "        \n",
    "        \"\"\"Default parameter: Asteroid's epoch. \n",
    "        Date should be a string in the UTC format.\n",
    "        \n",
    "        Parameter:\n",
    "            date (str): Date on which you want to calculate the surrogates\n",
    "                        in UTC format.\n",
    "                        \n",
    "        Example: \n",
    "            Asteroid.set_date('2020-01-01 00:00:00')\n",
    "        \n",
    "        \n",
    "        WARNING: The date also should be later than the asteroid's epoch. \n",
    "        Dates before the epoch will be useless.\"\"\"\n",
    "        \n",
    "        if type(date) is not str:\n",
    "            raise ValueError(f\"date should be a string as YYYY-MM-DD HH:MM:SS , you passed {date}\")\n",
    "        self.date = date\n",
    "        \n",
    "     \n",
    "    #GET COVARIANCE\n",
    "    def get_covariance(self): \n",
    "        \n",
    "        \"\"\"Returns:\n",
    "                Covariance matrix of the asteroid. (Numpy Array)\"\"\"\n",
    "        \n",
    "        \n",
    "        html = request.urlopen(f\"https://ssd-api.jpl.nasa.gov/sbdb.api?sstr={self.ID}&cov=mat\")\n",
    "        json_data = json.loads(html.read().decode())\n",
    "        \n",
    "        Cov = np.array(json_data[\"orbit\"][\"covariance\"][\"data\"], dtype=float)\n",
    "        return Cov\n",
    "    \n",
    "        \n",
    "    #CALCULATE SURROGATES POSITIONS\n",
    "    def calculate_surrogates(self, Nsur=1):\n",
    "        \n",
    "        \"\"\"Given a quantity of surrogates you get the orbital state vector of each surrogate\n",
    "        \n",
    "        Parameter: \n",
    "                Nsur(int): Quantity of surrogates to be calculated. \n",
    "                            Default = 1\n",
    "                            \n",
    "        Returns: \n",
    "                np.array([x, y, z, vx, vy, vz]): Orbital State Vector (units = AU, AU/d)\"\"\"\n",
    "    \n",
    "        html=request.urlopen(f\"https://ssd-api.jpl.nasa.gov/sbdb.api?sstr={self.ID}&cov=mat\")\n",
    "        json_data=json.loads(html.read().decode())\n",
    "    \n",
    "        rad = 180/np.pi\n",
    "        deg = 1/rad\n",
    "        AU = 149597870.693 #km \n",
    "        mu = 132712440023.310 #km^3/s^2\n",
    "    \n",
    "        Cov = np.array(json_data[\"orbit\"][\"covariance\"][\"data\"], dtype=float)\n",
    "        Cov_label = json_data[\"orbit\"][\"covariance\"][\"labels\"]\n",
    "        t = float(json_data[\"orbit\"][\"epoch\"])\n",
    "        nlen = len(json_data[\"orbit\"][\"elements\"])\n",
    "    \n",
    "        elnames = []\n",
    "        elements = odict()\n",
    "        \n",
    "        for i in range(nlen):\n",
    "            element = json_data[\"orbit\"][\"elements\"][i]\n",
    "            elements[element[\"name\"]] = odict()\n",
    "            for prop in element.keys():\n",
    "                try:\n",
    "                    elements[element[\"name\"]][prop] = float(element[prop])\n",
    "                except:\n",
    "                    pass\n",
    "\n",
    "        for elname in elements.keys():\n",
    "            element = elements[elname]\n",
    "            means = [elements['e']['value'], elements['q']['value'], elements['tp']['value'],\n",
    "                     elements['om']['value'], elements['w']['value'], elements['i']['value']]\n",
    "        \n",
    "        data = np.random.multivariate_normal(means, Cov, Nsur, check_valid='ignore')\n",
    "    \n",
    "    \n",
    "        e = data[:,0]; q = data[:,1]; tp = data[:,2]\n",
    "        node = data[:,3]; peri = data[:,4]; inc = data[:,5]\n",
    "\n",
    "        t0 = float(json_data[\"orbit\"][\"epoch\"])\n",
    "        et0 = spy.unitim(t0, \"JDTDB\", \"ET\")\n",
    "\n",
    "        a = (q/(1 - e))*AU\n",
    "        n = np.sqrt(mu/a**3)\n",
    "        tps = np.array([spy.unitim(t, \"JDTDB\", \"ET\") for t in tp])\n",
    "        M = n*(et0 - tps)\n",
    "        Ms = np.mod(M, 2*np.pi)\n",
    "\n",
    "        E_date = f'{self.date} UTC'\n",
    "        et = spy.str2et(E_date)\n",
    "        \n",
    "        if et < et0:\n",
    "            raise ValueError(f\"Date must be higher than asteroid's epoch (epoch = {Time(t0, format='jd',scale='utc').iso})\")\n",
    "    \n",
    "        Ast = []\n",
    "        for i in range(len(e)): \n",
    "            Ast.append(spy.conics([q[i]*AU, e[i], inc[i]*deg, node[i]*deg, peri[i]*deg, Ms[i], et0, mu], et)/AU)\n",
    "            Ast[i][3::] = Ast[i][3::]*86400\n",
    "        Ast = np.array(Ast)\n",
    "        return Ast"
   ]
  },
  {
   "cell_type": "code",
   "execution_count": 12,
   "id": "2b87ea95",
   "metadata": {},
   "outputs": [
    {
     "data": {
      "text/plain": [
       "(array([[ 7.61e-07, -2.40e-07,  2.52e-05, -1.35e-06,  2.50e-06,  4.02e-06],\n",
       "        [-2.40e-07,  7.54e-08, -7.93e-06,  4.23e-07, -7.87e-07, -1.26e-06],\n",
       "        [ 2.52e-05, -7.93e-06,  8.33e-04, -4.45e-05,  8.28e-05,  1.33e-04],\n",
       "        [-1.35e-06,  4.23e-07, -4.45e-05,  2.38e-06, -4.44e-06, -7.10e-06],\n",
       "        [ 2.50e-06, -7.87e-07,  8.28e-05, -4.44e-06,  8.32e-06,  1.32e-05],\n",
       "        [ 4.02e-06, -1.26e-06,  1.33e-04, -7.10e-06,  1.32e-05,  2.12e-05]]),\n",
       " '2021-03-06 00:00:00.000')"
      ]
     },
     "execution_count": 12,
     "metadata": {},
     "output_type": "execute_result"
    }
   ],
   "source": [
    "pha=Asteroid('2021EU')\n",
    "pha.get_covariance(), pha.get_date()"
   ]
  },
  {
   "cell_type": "code",
   "execution_count": 8,
   "id": "5a8ddff1",
   "metadata": {},
   "outputs": [
    {
     "name": "stdout",
     "output_type": "stream",
     "text": [
      "Help on class Asteroid in module __main__:\n",
      "\n",
      "class Asteroid(builtins.object)\n",
      " |  Asteroid(ID)\n",
      " |  \n",
      " |  Creates an object given an asteroid name.\n",
      " |  \n",
      " |  Parameter: \n",
      " |      ID (str): Name of the Asteroid in standard notation.\n",
      " |      \n",
      " |  Example: \n",
      " |      Ast = Asteroid('2008JL3')\n",
      " |  \n",
      " |  Methods defined here:\n",
      " |  \n",
      " |  __init__(self, ID)\n",
      " |      Once you give an asteroide name, it will take the epoch data \n",
      " |      from the JPL Small-Body Database as the default date parameter\n",
      " |  \n",
      " |  calculate_surrogates(self, Nsur=1)\n",
      " |      Given a quantity of surrogates you get the orbital state vector of each surrogate\n",
      " |      \n",
      " |      Parameter: \n",
      " |              Nsur(int): Quantity of surrogates to be calculated. \n",
      " |                          Default = 1\n",
      " |                          \n",
      " |      Returns: \n",
      " |              np.array([x, y, z, vx, vy, vz]): Orbital State Vector (units = AU, AU/d)\n",
      " |  \n",
      " |  get_covariance(self)\n",
      " |      Returns:\n",
      " |      Covariance matrix of the asteroid. (Numpy Array)\n",
      " |  \n",
      " |  get_date(self)\n",
      " |      Useful for checking the ephemeris time \n",
      " |      before calculating the surrogates.\n",
      " |      \n",
      " |      Returns:\n",
      " |              Date in UTC format (str)\n",
      " |  \n",
      " |  set_date(self, date)\n",
      " |      Default parameter: Asteroid's epoch. \n",
      " |      Date should be a string in the UTC format.\n",
      " |      \n",
      " |      Parameter:\n",
      " |          date (str): Date on which you want to calculate the surrogates\n",
      " |                      in UTC format.\n",
      " |                      \n",
      " |      Example: \n",
      " |          Asteroid.set_date('2020-01-01 00:00:00')\n",
      " |      \n",
      " |      \n",
      " |      WARNING: The date also should be later than the asteroid's epoch. \n",
      " |      Dates before the epoch will be useless.\n",
      " |  \n",
      " |  ----------------------------------------------------------------------\n",
      " |  Data descriptors defined here:\n",
      " |  \n",
      " |  __dict__\n",
      " |      dictionary for instance variables (if defined)\n",
      " |  \n",
      " |  __weakref__\n",
      " |      list of weak references to the object (if defined)\n",
      "\n"
     ]
    }
   ],
   "source": [
    "#pha.set_date('2022-07-30 00:00:00')\n",
    "pha.calculate_surrogates()\n",
    "help(Asteroid)"
   ]
  }
 ],
 "metadata": {
  "colab": {
   "name": "Package_dev.ipynb",
   "provenance": []
  },
  "kernelspec": {
   "display_name": "Python 3 (ipykernel)",
   "language": "python",
   "name": "python3"
  },
  "language_info": {
   "codemirror_mode": {
    "name": "ipython",
    "version": 3
   },
   "file_extension": ".py",
   "mimetype": "text/x-python",
   "name": "python",
   "nbconvert_exporter": "python",
   "pygments_lexer": "ipython3",
   "version": "3.10.4"
  }
 },
 "nbformat": 4,
 "nbformat_minor": 5
}
