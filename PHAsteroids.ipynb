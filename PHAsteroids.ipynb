{
 "cells": [
  {
   "cell_type": "markdown",
   "metadata": {
    "id": "V-J1UoKwFlHg"
   },
   "source": [
    "### Empezamos a trabajar aquí"
   ]
  },
  {
   "cell_type": "code",
   "execution_count": 18,
   "metadata": {
    "id": "nsPEEt0FXDil"
   },
   "outputs": [],
   "source": [
    "!python3 -m pip install -q astroquery spiceypy numpy matplotlib pandas\n",
    "!wget -O naif0012.tls https://naif.jpl.nasa.gov/pub/naif/generic_kernels/lsk/naif0012.tls &>/dev/null"
   ]
  },
  {
   "cell_type": "code",
   "execution_count": 9,
   "metadata": {
    "id": "IBM0-JxU-tC2"
   },
   "outputs": [],
   "source": [
    "import numpy as np\n",
    "import matplotlib.pyplot as plt\n",
    "import spiceypy as spy\n",
    "from astroquery.jplhorizons import Horizons\n",
    "from urllib import request\n",
    "import json\n",
    "from collections import OrderedDict as odict"
   ]
  },
  {
   "cell_type": "code",
   "execution_count": 10,
   "metadata": {
    "id": "ngNFyLC8_Gr2"
   },
   "outputs": [],
   "source": [
    "spy.furnsh('naif0012.tls')"
   ]
  },
  {
   "cell_type": "code",
   "execution_count": 11,
   "metadata": {
    "colab": {
     "base_uri": "https://localhost:8080/"
    },
    "id": "W3tYLsp9_d4Q",
    "outputId": "9583a336-7dc9-4e55-8d0d-7822c8a3140a"
   },
   "outputs": [
    {
     "data": {
      "text/plain": [
       "{'object': {'neo': True,\n",
       "  'orbit_class': {'name': 'Apollo', 'code': 'APO'},\n",
       "  'pha': False,\n",
       "  'spkid': '54130040',\n",
       "  'kind': 'au',\n",
       "  'orbit_id': '9',\n",
       "  'fullname': '(2021 EU)',\n",
       "  'des': '2021 EU',\n",
       "  'prefix': None},\n",
       " 'signature': {'source': 'NASA/JPL Small-Body Database (SBDB) API',\n",
       "  'version': '1.3'},\n",
       " 'orbit': {'source': 'JPL',\n",
       "  'moid_jup': '1.78',\n",
       "  't_jup': '3.374',\n",
       "  'condition_code': '8',\n",
       "  'not_valid_before': None,\n",
       "  'rms': '0.36',\n",
       "  'model_pars': [],\n",
       "  'orbit_id': '9',\n",
       "  'producer': 'Otto Matic',\n",
       "  'first_obs': '2021-03-02',\n",
       "  'soln_date': '2022-06-30 05:55:45',\n",
       "  'two_body': None,\n",
       "  'epoch': '2459279.5',\n",
       "  'elements': [{'value': '0.727',\n",
       "    'sigma': '0.00087',\n",
       "    'name': 'e',\n",
       "    'title': 'eccentricity',\n",
       "    'label': 'e',\n",
       "    'units': None},\n",
       "   {'value': '2.07',\n",
       "    'sigma': '0.0056',\n",
       "    'name': 'a',\n",
       "    'title': 'semi-major axis',\n",
       "    'label': 'a',\n",
       "    'units': 'au'},\n",
       "   {'value': '0.565',\n",
       "    'sigma': '0.00027',\n",
       "    'name': 'q',\n",
       "    'title': 'perihelion distance',\n",
       "    'label': 'q',\n",
       "    'units': 'au'},\n",
       "   {'value': '3.84',\n",
       "    'sigma': '0.0046',\n",
       "    'name': 'i',\n",
       "    'title': 'inclination; angle with respect to x-y ecliptic plane',\n",
       "    'label': 'i',\n",
       "    'units': 'deg'},\n",
       "   {'value': '158',\n",
       "    'sigma': '0.0015',\n",
       "    'name': 'om',\n",
       "    'title': 'longitude of the ascending node',\n",
       "    'label': 'node',\n",
       "    'units': 'deg'},\n",
       "   {'value': '269',\n",
       "    'sigma': '0.0029',\n",
       "    'name': 'w',\n",
       "    'title': 'argument of perihelion',\n",
       "    'label': 'peri',\n",
       "    'units': 'deg'},\n",
       "   {'value': '17.2',\n",
       "    'sigma': '0.08',\n",
       "    'name': 'ma',\n",
       "    'title': 'mean anomaly',\n",
       "    'label': 'M',\n",
       "    'units': 'deg'},\n",
       "   {'value': '2459227.382',\n",
       "    'sigma': '0.029',\n",
       "    'name': 'tp',\n",
       "    'title': 'time of perihelion passage',\n",
       "    'label': 'tp',\n",
       "    'units': 'TDB'},\n",
       "   {'value': '1090',\n",
       "    'sigma': '4.4',\n",
       "    'name': 'per',\n",
       "    'title': 'sidereal orbital period',\n",
       "    'label': 'period',\n",
       "    'units': 'd'},\n",
       "   {'value': '0.33',\n",
       "    'sigma': '0.0013',\n",
       "    'name': 'n',\n",
       "    'title': 'mean motion',\n",
       "    'label': 'n',\n",
       "    'units': 'deg/d'},\n",
       "   {'value': '3.58',\n",
       "    'sigma': '0.0097',\n",
       "    'name': 'ad',\n",
       "    'title': 'aphelion distance',\n",
       "    'label': 'Q',\n",
       "    'units': 'au'}],\n",
       "  'equinox': 'J2000',\n",
       "  'data_arc': '15',\n",
       "  'not_valid_after': None,\n",
       "  'n_del_obs_used': None,\n",
       "  'sb_used': 'SB441-N16',\n",
       "  'n_obs_used': '38',\n",
       "  'covariance': {'epoch': '2459279.5',\n",
       "   'data': [['7.61e-07',\n",
       "     '-2.4e-07',\n",
       "     '2.52e-05',\n",
       "     '-1.35e-06',\n",
       "     '2.5e-06',\n",
       "     '4.02e-06'],\n",
       "    ['-2.4e-07',\n",
       "     '7.54e-08',\n",
       "     '-7.93e-06',\n",
       "     '4.23e-07',\n",
       "     '-7.87e-07',\n",
       "     '-1.26e-06'],\n",
       "    ['2.52e-05', '-7.93e-06', '0.000833', '-4.45e-05', '8.28e-05', '0.000133'],\n",
       "    ['-1.35e-06',\n",
       "     '4.23e-07',\n",
       "     '-4.45e-05',\n",
       "     '2.38e-06',\n",
       "     '-4.44e-06',\n",
       "     '-7.1e-06'],\n",
       "    ['2.5e-06', '-7.87e-07', '8.28e-05', '-4.44e-06', '8.32e-06', '1.32e-05'],\n",
       "    ['4.02e-06', '-1.26e-06', '0.000133', '-7.1e-06', '1.32e-05', '2.12e-05']],\n",
       "   'labels': ['e', 'q', 'tp', 'node', 'peri', 'i']},\n",
       "  'comment': None,\n",
       "  'pe_used': 'DE441',\n",
       "  'last_obs': '2021-03-17',\n",
       "  'moid': '0.000121',\n",
       "  'n_dop_obs_used': None}}"
      ]
     },
     "execution_count": 11,
     "metadata": {},
     "output_type": "execute_result"
    }
   ],
   "source": [
    "html=request.urlopen(f\"https://ssd-api.jpl.nasa.gov/sbdb.api?sstr=2021eu&cov=mat\")\n",
    "json_data=json.loads(html.read().decode())\n",
    "json_data"
   ]
  },
  {
   "cell_type": "code",
   "execution_count": 12,
   "metadata": {
    "id": "-Klo9W4COkMN"
   },
   "outputs": [],
   "source": [
    "rad=180/np.pi\n",
    "deg=1/rad\n",
    "AU=149597870.693 #km \n",
    "mu=132712440023.310 #km^3/s^2"
   ]
  },
  {
   "cell_type": "code",
   "execution_count": 13,
   "metadata": {
    "colab": {
     "base_uri": "https://localhost:8080/"
    },
    "id": "rMuCY6L4EVZX",
    "outputId": "837dc61c-2dfb-4e84-da75-2a8299532a96"
   },
   "outputs": [
    {
     "data": {
      "text/plain": [
       "(array([[ 7.61e-07, -2.40e-07,  2.52e-05, -1.35e-06,  2.50e-06,  4.02e-06],\n",
       "        [-2.40e-07,  7.54e-08, -7.93e-06,  4.23e-07, -7.87e-07, -1.26e-06],\n",
       "        [ 2.52e-05, -7.93e-06,  8.33e-04, -4.45e-05,  8.28e-05,  1.33e-04],\n",
       "        [-1.35e-06,  4.23e-07, -4.45e-05,  2.38e-06, -4.44e-06, -7.10e-06],\n",
       "        [ 2.50e-06, -7.87e-07,  8.28e-05, -4.44e-06,  8.32e-06,  1.32e-05],\n",
       "        [ 4.02e-06, -1.26e-06,  1.33e-04, -7.10e-06,  1.32e-05,  2.12e-05]]),\n",
       " ['e', 'q', 'tp', 'node', 'peri', 'i'])"
      ]
     },
     "execution_count": 13,
     "metadata": {},
     "output_type": "execute_result"
    }
   ],
   "source": [
    "Cov=np.array(json_data[\"orbit\"][\"covariance\"][\"data\"],dtype=float)\n",
    "Cov_label=json_data[\"orbit\"][\"covariance\"][\"labels\"]\n",
    "t=float(json_data[\"orbit\"][\"epoch\"])\n",
    "mu=132712440023.310 #km^3/s^2\n",
    "Cov,Cov_label"
   ]
  },
  {
   "cell_type": "code",
   "execution_count": 14,
   "metadata": {
    "colab": {
     "base_uri": "https://localhost:8080/"
    },
    "id": "TomnyzkPGUCp",
    "outputId": "dc879a73-3c0c-4f27-8000-e428c99ded77"
   },
   "outputs": [
    {
     "name": "stdout",
     "output_type": "stream",
     "text": [
      "Elemento e = 0.727 +/- 7.569e-07\n",
      "Elemento a = 2.07 +/- 3.136e-05\n",
      "Elemento q = 0.565 +/- 7.29e-08\n",
      "Elemento i = 3.84 +/- 2.116e-05\n",
      "Elemento om = 158.0 +/- 2.25e-06\n",
      "Elemento w = 269.0 +/- 8.409999999999999e-06\n",
      "Elemento ma = 17.2 +/- 0.0064\n",
      "Elemento tp = 2459227.382 +/- 0.0008410000000000001\n",
      "Elemento per = 1090.0 +/- 19.360000000000003\n",
      "Elemento n = 0.33 +/- 1.69e-06\n",
      "Elemento ad = 3.58 +/- 9.409e-05\n"
     ]
    },
    {
     "data": {
      "text/plain": [
       "[0.727, 0.565, 2459227.382, 158.0, 269.0, 3.84]"
      ]
     },
     "execution_count": 14,
     "metadata": {},
     "output_type": "execute_result"
    }
   ],
   "source": [
    "nlen=len(json_data[\"orbit\"][\"elements\"])\n",
    "elnames=[]\n",
    "elements=odict()\n",
    "for i in range(nlen):\n",
    "  element=json_data[\"orbit\"][\"elements\"][i]\n",
    "  elements[element[\"name\"]]=odict()\n",
    "  for prop in element.keys():\n",
    "    try:\n",
    "      elements[element[\"name\"]][prop]=float(element[prop])\n",
    "    except:\n",
    "      pass\n",
    "\n",
    "for elname in elements.keys():\n",
    "  element=elements[elname]\n",
    "  print(f\"Elemento {elname} = {element['value']} +/- {element['sigma']**2}\")\n",
    "\n",
    "means=[elements['e']['value'],elements['q']['value'],elements['tp']['value'],elements['om']['value'],elements['w']['value'],elements['i']['value']]\n",
    "means"
   ]
  },
  {
   "cell_type": "markdown",
   "metadata": {
    "id": "oFynm18vFMP2"
   },
   "source": [
    "### Idea 1: Hacer la Gaussiana Multivariada y con los valores obtenidos hallar M.\n"
   ]
  },
  {
   "cell_type": "code",
   "execution_count": 15,
   "metadata": {
    "colab": {
     "base_uri": "https://localhost:8080/"
    },
    "id": "V8GXYSUoFXCv",
    "outputId": "34fc0375-36f4-4f0c-ef39-4f1ccb4321ce"
   },
   "outputs": [
    {
     "name": "stderr",
     "output_type": "stream",
     "text": [
      "/tmp/ipykernel_3259/3345734706.py:1: RuntimeWarning: covariance is not positive-semidefinite.\n",
      "  data=np.random.multivariate_normal(means,Cov,1000)\n"
     ]
    }
   ],
   "source": [
    "data=np.random.multivariate_normal(means,Cov,1000)"
   ]
  },
  {
   "cell_type": "code",
   "execution_count": 20,
   "metadata": {
    "colab": {
     "base_uri": "https://localhost:8080/",
     "height": 626
    },
    "id": "uWr2chxNM82C",
    "outputId": "66c57395-ba73-45a6-8366-37a95494bce4"
   },
   "outputs": [
    {
     "data": {
      "text/plain": [
       "(668260800.0, 731764869.185513)"
      ]
     },
     "execution_count": 20,
     "metadata": {},
     "output_type": "execute_result"
    }
   ],
   "source": [
    "e=data[:,0];q=data[:,1];tp=data[:,2];node=data[:,3];peri=data[:,4];inc=data[:,5]\n",
    "\n",
    "t0=float(json_data[\"orbit\"][\"epoch\"])\n",
    "et0=spy.unitim(t0,\"JDTDB\",\"ET\")\n",
    "\n",
    "a=(q/(1-e))*AU\n",
    "n=np.sqrt(mu/a**3)\n",
    "#n=np.rad2deg(n)\n",
    "#n*86400\n",
    "tps=np.array([spy.unitim(t,\"JDTDB\",\"ET\") for t in tp])\n",
    "M=n*(t-tps)\n",
    "Ms=np.mod(M,2*np.pi)\n",
    "\n",
    "et=spy.str2et(\"2023-03-11.35 UTC\")\n",
    "\n",
    "Asteroid=[]\n",
    "for i in range(len(e)):\n",
    "  Asteroid.append(spy.conics([q[i]*AU,e[i],inc[i]*deg,node[i]*deg,peri[i]*deg,Ms[i],et0,mu],et0))\n",
    "Asteroid=np.array(Asteroid)\n",
    "#print(f\"e ={e}\\nq={q}\\ntp={tp}\\nnode={node}\\nperi={peri}\\nM={Ms}\\ni={inc}\")\n",
    "et0, et"
   ]
  },
  {
   "cell_type": "code",
   "execution_count": 21,
   "metadata": {
    "id": "k13ko6i3oUVu"
   },
   "outputs": [],
   "source": [
    "Epoch=spy.unitim(et,\"ET\",\"JDTDB\")\n",
    "data_tierra=Horizons(id=\"399\",location=\"@10\",epochs=Epoch).vectors()\n",
    "rE=np.array(data_tierra.to_pandas().loc[0,[\"x\",\"y\",\"z\"]].astype(\"float\"))*AU\n"
   ]
  },
  {
   "cell_type": "code",
   "execution_count": 22,
   "metadata": {
    "id": "x_2U0e1foa8y"
   },
   "outputs": [
    {
     "data": {
      "image/png": "[encoded data removed]",
      "text/plain": [
       "<Figure size 864x576 with 1 Axes>"
      ]
     },
     "metadata": {
      "needs_background": "light"
     },
     "output_type": "display_data"
    }
   ],
   "source": [
    "fig=plt.figure(figsize=(12,8))\n",
    "ax1=fig.add_subplot(111)\n",
    "#ax.scatter(rE[0],rE[1],rE[2],marker=\"o\",s=64, label=\"Earth\")\n",
    "ax1.scatter(rE[0],rE[1],marker=\"o\",s=10**2, label=\"Earth\")\n",
    "ax1.set(xlabel=\"X[km]\",ylabel=\"Y[km]\")\n",
    "for k in range(len(Asteroid)):\n",
    "  #ax.scatter(Asteroid[k][:3][0],Asteroid[k][:3][1],Asteroid[k][:3][2], s=2**2)\n",
    "  ax1.scatter(Asteroid[k][:3][0],Asteroid[k][:3][1], s=2**2)\n",
    "\n",
    "plt.legend(fontsize=14)\n",
    "plt.grid()"
   ]
  },
  {
   "cell_type": "code",
   "execution_count": 13,
   "metadata": {
    "id": "dHH6AhB-vd3O"
   },
   "outputs": [
    {
     "ename": "NameError",
     "evalue": "name 'a' is not defined",
     "output_type": "error",
     "traceback": [
      "\u001b[0;31m---------------------------------------------------------------------------\u001b[0m",
      "\u001b[0;31mNameError\u001b[0m                                 Traceback (most recent call last)",
      "Input \u001b[0;32mIn [13]\u001b[0m, in \u001b[0;36m<cell line: 2>\u001b[0;34m()\u001b[0m\n\u001b[1;32m      1\u001b[0m \u001b[38;5;66;03m#\"{:e}\".format(abs(np.linalg.norm(Asteroid[0][:3])-np.linalg.norm(Asteroid[1][:3])))\u001b[39;00m\n\u001b[0;32m----> 2\u001b[0m np\u001b[38;5;241m.\u001b[39mstd(\u001b[43ma\u001b[49m\u001b[38;5;241m/\u001b[39mAU)\n",
      "\u001b[0;31mNameError\u001b[0m: name 'a' is not defined"
     ]
    }
   ],
   "source": [
    "#\"{:e}\".format(abs(np.linalg.norm(Asteroid[0][:3])-np.linalg.norm(Asteroid[1][:3])))\n",
    "np.std(a/AU)"
   ]
  }
 ],
 "metadata": {
  "colab": {
   "collapsed_sections": [],
   "name": "PHAsteroids.ipynb",
   "provenance": []
  },
  "kernelspec": {
   "display_name": "Python 3 (ipykernel)",
   "language": "python",
   "name": "python3"
  },
  "language_info": {
   "codemirror_mode": {
    "name": "ipython",
    "version": 3
   },
   "file_extension": ".py",
   "mimetype": "text/x-python",
   "name": "python",
   "nbconvert_exporter": "python",
   "pygments_lexer": "ipython3",
   "version": "3.10.4"
  }
 },
 "nbformat": 4,
 "nbformat_minor": 1
}
